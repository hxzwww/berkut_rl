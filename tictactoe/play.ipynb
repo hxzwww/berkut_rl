{
 "cells": [
  {
   "cell_type": "code",
   "execution_count": null,
   "metadata": {
    "id": "jgT2MnMB71_g"
   },
   "outputs": [],
   "source": [
    "import pickle\n",
    "\n",
    "from ttt_env import TicTacToeEnvironment\n",
    "from ttt_agent import TicTacToeAgent"
   ]
  },
  {
   "cell_type": "code",
   "execution_count": 13,
   "metadata": {
    "id": "3elRU0Me8DUn"
   },
   "outputs": [],
   "source": [
    "def print_board(board):\n",
    "    translate = {1:'X', 0:'.', -1:'O'}\n",
    "    for i in range(3):\n",
    "        for j in range(3):\n",
    "            print(translate[board[i * 3 + j]], end='')\n",
    "        print()\n",
    "    print()\n",
    "\n",
    "def play(agent, user='X'):\n",
    "    env = TicTacToeEnvironment()\n",
    "    state = env.reset()\n",
    "    turn = 'X'\n",
    "    if user == turn:\n",
    "        print_board(state)\n",
    "    done = False\n",
    "    while not done:\n",
    "        if user == turn:\n",
    "            action = int(input()) - 1\n",
    "        else:\n",
    "            action = agent.choose_action(state)\n",
    "\n",
    "        next_state, reward, done = env.step(action, turn)\n",
    "        state = next_state\n",
    "\n",
    "        turn = 'X' if turn == 'O' else 'O'\n",
    "        print_board(state)\n",
    "        if done:\n",
    "             break"
   ]
  },
  {
   "cell_type": "code",
   "execution_count": 7,
   "metadata": {
    "id": "JSIjhKE58KSF"
   },
   "outputs": [],
   "source": [
    "with open('agent.pickle', 'rb') as f:\n",
    "    agent = pickle.load(f)"
   ]
  },
  {
   "cell_type": "markdown",
   "metadata": {},
   "source": [
    "Запустив эту ячейку, можно сыграть с агентом, нужно выбрать за крестик или за нолик играть, затем, чтобы сходить, нужно вводить номер ячейки (от 1 до 9)"
   ]
  },
  {
   "cell_type": "code",
   "execution_count": null,
   "metadata": {
    "id": "Oe-7io0C8lJp"
   },
   "outputs": [],
   "source": [
    "play(agent, 'O')"
   ]
  }
 ],
 "metadata": {
  "colab": {
   "provenance": []
  },
  "kernelspec": {
   "display_name": "Python 3 (ipykernel)",
   "language": "python",
   "name": "python3"
  },
  "language_info": {
   "codemirror_mode": {
    "name": "ipython",
    "version": 3
   },
   "file_extension": ".py",
   "mimetype": "text/x-python",
   "name": "python",
   "nbconvert_exporter": "python",
   "pygments_lexer": "ipython3",
   "version": "3.12.4"
  }
 },
 "nbformat": 4,
 "nbformat_minor": 4
}
