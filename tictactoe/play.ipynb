{
  "nbformat": 4,
  "nbformat_minor": 0,
  "metadata": {
    "colab": {
      "provenance": []
    },
    "kernelspec": {
      "name": "python3",
      "display_name": "Python 3"
    },
    "language_info": {
      "name": "python"
    }
  },
  "cells": [
    {
      "cell_type": "code",
      "execution_count": 2,
      "metadata": {
        "id": "jgT2MnMB71_g"
      },
      "outputs": [],
      "source": [
        "import pickle\n",
        "\n",
        "from ttt_env import TicTacToeEnvironment\n",
        "from ttt_agent import TicTacToeAgent"
      ]
    },
    {
      "cell_type": "code",
      "source": [
        "def print_board(board):\n",
        "    translate = {1:'X', 0:'.', -1:'O'}\n",
        "    for i in range(3):\n",
        "        for j in range(3):\n",
        "            print(translate[board[i * 3 + j]], end='')\n",
        "        print()\n",
        "    print()\n",
        "\n",
        "def play(agent, user='X'):\n",
        "    env = TicTacToeEnvironment()\n",
        "    state = env.reset()\n",
        "    turn = 'X'\n",
        "    if user == turn:\n",
        "        print_board(state)\n",
        "    done = False\n",
        "    while not done:\n",
        "        if user == turn:\n",
        "            action = int(input()) - 1\n",
        "        else:\n",
        "            action = agent.choose_action(state)\n",
        "\n",
        "        next_state, reward, done = env.step(action, turn)\n",
        "        state = next_state\n",
        "\n",
        "        turn = 'X' if turn == 'O' else 'O'\n",
        "        print_board(state)\n",
        "        if done:\n",
        "             break"
      ],
      "metadata": {
        "id": "3elRU0Me8DUn"
      },
      "execution_count": 13,
      "outputs": []
    },
    {
      "cell_type": "code",
      "source": [
        "with open('agent.pickle', 'rb') as f:\n",
        "    agent = pickle.load(f)"
      ],
      "metadata": {
        "id": "JSIjhKE58KSF"
      },
      "execution_count": 7,
      "outputs": []
    },
    {
      "cell_type": "code",
      "source": [
        "play(agent, 'O')"
      ],
      "metadata": {
        "id": "Oe-7io0C8lJp"
      },
      "execution_count": null,
      "outputs": []
    }
  ]
}