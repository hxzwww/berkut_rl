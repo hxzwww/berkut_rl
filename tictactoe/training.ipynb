{
 "cells": [
  {
   "cell_type": "code",
   "execution_count": 2,
   "metadata": {
    "id": "M2VNdpAw6EKP"
   },
   "outputs": [],
   "source": [
    "import numpy as np\n",
    "import random\n",
    "from tqdm import tqdm\n",
    "import matplotlib.pyplot as plt\n",
    "from copy import deepcopy\n",
    "import pickle\n",
    "\n",
    "from ttt_env import TicTacToeEnvironment\n",
    "from ttt_agent import TicTacToeAgent"
   ]
  },
  {
   "cell_type": "code",
   "execution_count": 77,
   "metadata": {
    "id": "c8y3FHcc8DcA"
   },
   "outputs": [],
   "source": [
    "def train_agent(n_episodes):\n",
    "    agent = TicTacToeAgent()\n",
    "    env = TicTacToeEnvironment()\n",
    "\n",
    "    total_reward = [0,]\n",
    "\n",
    "    for episode in tqdm(range(n_episodes)):\n",
    "\n",
    "        state = env.reset()\n",
    "        done = False\n",
    "        turn = 'X'\n",
    "\n",
    "        history = []\n",
    "\n",
    "        # Сама игра\n",
    "        while not done:\n",
    "            action = agent.choose_action(state)\n",
    "            next_state, reward, done = env.step(action, turn)\n",
    "            history.append([state, action])\n",
    "            state = next_state\n",
    "\n",
    "            if done:\n",
    "                break\n",
    "            turn = 'X' if turn == 'O' else 'O'\n",
    "\n",
    "        total_reward.append(total_reward[-1] + reward)\n",
    "\n",
    "        # Тут происходит обновление Q значений на всех этапах партии\n",
    "        game_duration = len(history)\n",
    "        agent.update_q_table(*history[game_duration - 1], reward, state)\n",
    "        agent.update_q_table(*history[game_duration - 2], -1e9 if reward == 1 else reward, history[game_duration - 1][0])\n",
    "\n",
    "        sign = 1\n",
    "        lr = 0.5\n",
    "        for i in range(game_duration - 3, -1, -1):\n",
    "            agent.update_q_table(*history[i], sign * reward, history[i + 1][0])\n",
    "            if reward == 1:\n",
    "               sign *= -1\n",
    "            lr *= lr\n",
    "\n",
    "        agent.decrease_exploration()\n",
    "    return agent, total_reward"
   ]
  },
  {
   "cell_type": "markdown",
   "metadata": {
    "id": "PXLa5fCLZQhR"
   },
   "source": [
    "Функция `play_all_games` предназначена для перебора всех возможных партий, где агент играет за одного из игроков (например, за 'O'). Основная цель функции — сгенерировать все возможные исходы игры, используя все возможные ответы на каждый ход агента. Таким образом, получается некое \"дерево\" исходов и можно оценить долю всех последовательностей действий ведущих к одному из результатов."
   ]
  },
  {
   "cell_type": "code",
   "execution_count": 63,
   "metadata": {
    "id": "HZbAtrxFG8pf"
   },
   "outputs": [],
   "source": [
    "def play_all_games(agent, env, state, agent_turn, turn='X'):\n",
    "    results = []\n",
    "    next_turn = 'O' if turn == 'X' else 'X'\n",
    "\n",
    "    if agent_turn == turn:\n",
    "        action = agent.choose_action(state)\n",
    "        new_state, reward, done = env.step(action, turn)\n",
    "        if done:\n",
    "            return ['agent' if reward == 1 else 'draw', ]\n",
    "        for i in play_all_games(agent, env, new_state, agent_turn, next_turn):\n",
    "            results.append(i)\n",
    "    else:\n",
    "        for action in agent.get_possible_actions(state):\n",
    "            new_env = deepcopy(env)\n",
    "            new_state, reward, done = new_env.step(action, turn)\n",
    "\n",
    "            if done:\n",
    "                results.append('user' if reward == 1 else 'draw', )\n",
    "            else:\n",
    "                for i in play_all_games(agent, new_env, new_state, agent_turn, next_turn):\n",
    "                    results.append(i)\n",
    "    return results"
   ]
  },
  {
   "cell_type": "markdown",
   "metadata": {
    "id": "jXWLS6DKZ2Mg"
   },
   "source": [
    "Эта функция делает n симуляций и усредняет результаты, таким образом мы получаем устойчивую \"метрику\" качества работы агента."
   ]
  },
  {
   "cell_type": "code",
   "execution_count": 66,
   "metadata": {
    "id": "VK3PqYxOZ0Pf"
   },
   "outputs": [],
   "source": [
    "def analyze(agent, n_simulations, agent_turn):\n",
    "    user_cnt = 0\n",
    "    agent_cnt = 0\n",
    "    draw_cnt = 0\n",
    "    for i in range(n_simulations):\n",
    "        env = TicTacToeEnvironment()\n",
    "        initial_state = env.reset()\n",
    "\n",
    "        res = play_all_games(agent, env, initial_state, agent_turn)\n",
    "        user_cnt += res.count('user')\n",
    "        agent_cnt += res.count('agent')\n",
    "        draw_cnt += res.count('draw')\n",
    "    total = user_cnt + agent_cnt + draw_cnt\n",
    "    print(f\"wins when agent is {agent_turn}\")\n",
    "    lw, pw, cw = 8, 3, 6 # Для форматированния строк\n",
    "    print(f\"{'  user:':<{lw}} {user_cnt:>{cw}} {user_cnt / total * 100:>{pw}.0f}%\")\n",
    "    print(f\"{'  agent:':<{lw}} {agent_cnt:>{cw}} {agent_cnt / total * 100:>{pw}.0f}%\")\n",
    "    print(f\"{'  draw:':<{lw}} {draw_cnt:>{cw}} {draw_cnt / total * 100:>{pw}.0f}%\")"
   ]
  },
  {
   "cell_type": "code",
   "execution_count": 144,
   "metadata": {
    "colab": {
     "base_uri": "https://localhost:8080/"
    },
    "id": "0bhKSIzB6stD",
    "outputId": "c50ef78d-d86a-41f0-9617-5c59c417de18"
   },
   "outputs": [
    {
     "name": "stdout",
     "output_type": "stream",
     "text": [
      "wins when agent is X\n",
      "  user:    9247  33%\n",
      "  agent:  14000  50%\n",
      "  draw:    4866  17%\n",
      "wins when agent is O\n",
      "  user:   48731  59%\n",
      "  agent:  21727  26%\n",
      "  draw:   12476  15%\n"
     ]
    }
   ],
   "source": [
    "# Результаты для необученного агента\n",
    "analyze(TicTacToeAgent(), 100, 'X')\n",
    "analyze(TicTacToeAgent(), 100, 'O')"
   ]
  },
  {
   "cell_type": "code",
   "execution_count": 84,
   "metadata": {
    "colab": {
     "base_uri": "https://localhost:8080/"
    },
    "id": "sNjwifLpe1gY",
    "outputId": "bd421b10-19ff-42ad-feac-f2813272e571"
   },
   "outputs": [
    {
     "name": "stderr",
     "output_type": "stream",
     "text": [
      "100%|██████████| 300000/300000 [01:07<00:00, 4461.20it/s]\n"
     ]
    }
   ],
   "source": [
    "n_episodes = int(3e5)\n",
    "\n",
    "agent1, total_reward = train_agent(n_episodes)"
   ]
  },
  {
   "cell_type": "code",
   "execution_count": 85,
   "metadata": {
    "colab": {
     "base_uri": "https://localhost:8080/",
     "height": 577
    },
    "id": "xju0yhfkgJfm",
    "outputId": "dec46770-f273-4da8-811c-6e7d3a059ac7"
   },
   "outputs": [
    {
     "data": {
      "image/png": "[encoded data removed]",
      "text/plain": [
       "<Figure size 640x480 with 1 Axes>"
      ]
     },
     "metadata": {},
     "output_type": "display_data"
    },
    {
     "name": "stdout",
     "output_type": "stream",
     "text": [
      "wins when agent is X\n",
      "  user:       0   0%\n",
      "  agent:  18900  89%\n",
      "  draw:    2300  11%\n",
      "wins when agent is O\n",
      "  user:    9562  14%\n",
      "  agent:  43653  65%\n",
      "  draw:   13963  21%\n"
     ]
    }
   ],
   "source": [
    "plt.plot(total_reward)\n",
    "plt.show()\n",
    "analyze(agent1, 100, 'X')\n",
    "analyze(agent1, 100, 'O')"
   ]
  },
  {
   "cell_type": "markdown",
   "metadata": {},
   "source": [
    "Как видно из графика и метрик, агент с определенного момента перестал глобально учиться и стал играть примерно по одной стратегии, таким образом он отлично играет из определнных позиций, но в других он плохо ориентируется. Объединим несколько агентов, каждого со своими \"проблемами\""
   ]
  },
  {
   "cell_type": "code",
   "execution_count": null,
   "metadata": {
    "id": "2dLVSBeAgckW"
   },
   "outputs": [],
   "source": [
    "def merge(agents):\n",
    "    super_agent = TicTacToeAgent()\n",
    "    super_agent.epsilon = 0\n",
    "\n",
    "    for agent in agents:\n",
    "        for key in agent.q_table:\n",
    "            if key in super_agent.q_table:\n",
    "                super_agent.q_table[key] += agent.q_table[key]\n",
    "            else:\n",
    "                super_agent.q_table[key] = agent.q_table[key]\n",
    "    return super_agent"
   ]
  },
  {
   "cell_type": "code",
   "execution_count": 87,
   "metadata": {
    "colab": {
     "base_uri": "https://localhost:8080/"
    },
    "id": "EpNsXBWyg-7m",
    "outputId": "a5a0c97b-7709-44b1-895f-d8ffcc7e0984"
   },
   "outputs": [
    {
     "name": "stderr",
     "output_type": "stream",
     "text": [
      "100%|██████████| 300000/300000 [01:05<00:00, 4584.82it/s]\n",
      "100%|██████████| 300000/300000 [01:05<00:00, 4558.35it/s]\n",
      "100%|██████████| 300000/300000 [01:11<00:00, 4190.37it/s]\n",
      "100%|██████████| 300000/300000 [01:05<00:00, 4558.15it/s]\n",
      "100%|██████████| 300000/300000 [01:06<00:00, 4521.64it/s]\n",
      "100%|██████████| 300000/300000 [01:06<00:00, 4540.64it/s]\n",
      "100%|██████████| 300000/300000 [01:05<00:00, 4551.28it/s]\n"
     ]
    },
    {
     "name": "stdout",
     "output_type": "stream",
     "text": [
      "wins when agent is X\n",
      "  user:       0   0%\n",
      "  agent:  23500  98%\n",
      "  draw:     400   2%\n",
      "wins when agent is O\n",
      "  user:       0   0%\n",
      "  agent:  59400  86%\n",
      "  draw:    9700  14%\n"
     ]
    }
   ],
   "source": [
    "n_agents = 7\n",
    "agents = [agent1, ]\n",
    "for i in range(n_agents):\n",
    "    agents.append(train_agent(n_episodes)[0])\n",
    "\n",
    "super_agent = merge(agents)\n",
    "analyze(super_agent, 100, 'X')\n",
    "analyze(super_agent, 100, 'O')"
   ]
  },
  {
   "cell_type": "markdown",
   "metadata": {
    "id": "HkZQEhnk3Aq1"
   },
   "source": [
    "Агент перестал проигрывать. Попробуем еще улучшить его"
   ]
  },
  {
   "cell_type": "code",
   "execution_count": 88,
   "metadata": {
    "colab": {
     "base_uri": "https://localhost:8080/"
    },
    "id": "EQ400KTWlMMV",
    "outputId": "66c4b676-fbb8-4721-8239-c3203bf86092"
   },
   "outputs": [
    {
     "name": "stderr",
     "output_type": "stream",
     "text": [
      "100%|██████████| 300000/300000 [01:06<00:00, 4529.69it/s]\n",
      "100%|██████████| 300000/300000 [01:06<00:00, 4537.32it/s]\n",
      "100%|██████████| 300000/300000 [01:06<00:00, 4502.69it/s]\n",
      "100%|██████████| 300000/300000 [01:07<00:00, 4424.12it/s]\n",
      "100%|██████████| 300000/300000 [01:07<00:00, 4421.57it/s]\n",
      "100%|██████████| 300000/300000 [01:06<00:00, 4517.70it/s]\n",
      "100%|██████████| 300000/300000 [01:06<00:00, 4511.15it/s]\n",
      "100%|██████████| 300000/300000 [01:06<00:00, 4532.30it/s]\n"
     ]
    },
    {
     "name": "stdout",
     "output_type": "stream",
     "text": [
      "wins when agent is X\n",
      "  user:       0   0%\n",
      "  agent:  24700  98%\n",
      "  draw:     400   2%\n",
      "wins when agent is O\n",
      "  user:       0   0%\n",
      "  agent:  62800  89%\n",
      "  draw:    7900  11%\n"
     ]
    }
   ],
   "source": [
    "n_agents = 8\n",
    "agents = [super_agent, ]\n",
    "for i in range(n_agents):\n",
    "    agents.append(train_agent(n_episodes)[0])\n",
    "\n",
    "super_agent = merge(agents)\n",
    "analyze(super_agent, 100, 'X')\n",
    "analyze(super_agent, 100, 'O')"
   ]
  },
  {
   "cell_type": "markdown",
   "metadata": {
    "id": "y98XpbhU3Ik5"
   },
   "source": [
    "Агент стал сильнее, попробуем еще"
   ]
  },
  {
   "cell_type": "code",
   "execution_count": 89,
   "metadata": {
    "colab": {
     "base_uri": "https://localhost:8080/"
    },
    "id": "fGcTXLyTrAMA",
    "outputId": "33c082b5-a151-4922-aa99-29a9b5f8bc55"
   },
   "outputs": [
    {
     "name": "stderr",
     "output_type": "stream",
     "text": [
      "100%|██████████| 300000/300000 [01:06<00:00, 4492.86it/s]\n",
      "100%|██████████| 300000/300000 [01:06<00:00, 4530.39it/s]\n",
      "100%|██████████| 300000/300000 [01:05<00:00, 4554.54it/s]\n",
      "100%|██████████| 300000/300000 [01:06<00:00, 4515.50it/s]\n",
      "100%|██████████| 300000/300000 [01:06<00:00, 4536.40it/s]\n",
      "100%|██████████| 300000/300000 [01:06<00:00, 4543.45it/s]\n",
      "100%|██████████| 300000/300000 [01:05<00:00, 4567.48it/s]\n",
      "100%|██████████| 300000/300000 [01:05<00:00, 4557.65it/s]\n"
     ]
    },
    {
     "name": "stdout",
     "output_type": "stream",
     "text": [
      "wins when agent is X\n",
      "  user:       0   0%\n",
      "  agent:  24900  98%\n",
      "  draw:     400   2%\n",
      "wins when agent is O\n",
      "  user:       0   0%\n",
      "  agent:  63200  89%\n",
      "  draw:    7900  11%\n"
     ]
    }
   ],
   "source": [
    "n_agents = 8\n",
    "agents = [super_agent, ]\n",
    "for i in range(n_agents):\n",
    "    agents.append(train_agent(n_episodes)[0])\n",
    "\n",
    "super_agent = merge(agents)\n",
    "analyze(super_agent, 100, 'X')\n",
    "analyze(super_agent, 100, 'O')"
   ]
  },
  {
   "cell_type": "markdown",
   "metadata": {
    "id": "oyRdZBo06GDs"
   },
   "source": [
    "Все, достигли оптимума"
   ]
  },
  {
   "cell_type": "code",
   "execution_count": 143,
   "metadata": {
    "colab": {
     "base_uri": "https://localhost:8080/"
    },
    "id": "Z6FH9E3Y3Rc_",
    "outputId": "d2044914-3ffd-41bf-944f-ab0871678054"
   },
   "outputs": [
    {
     "name": "stderr",
     "output_type": "stream",
     "text": [
      "100%|██████████| 30000/30000 [00:07<00:00, 3900.55it/s]\n",
      "100%|██████████| 30000/30000 [00:05<00:00, 5042.99it/s]\n",
      "100%|██████████| 30000/30000 [00:07<00:00, 4166.43it/s]\n",
      "100%|██████████| 30000/30000 [00:05<00:00, 5122.07it/s]\n",
      "100%|██████████| 30000/30000 [00:07<00:00, 4199.21it/s]\n",
      "100%|██████████| 30000/30000 [00:05<00:00, 5162.03it/s]\n",
      "100%|██████████| 30000/30000 [00:07<00:00, 4130.83it/s]\n",
      "100%|██████████| 30000/30000 [00:05<00:00, 5057.41it/s]\n",
      "100%|██████████| 30000/30000 [00:07<00:00, 4230.06it/s]\n",
      "100%|██████████| 30000/30000 [00:05<00:00, 5064.63it/s]\n",
      "100%|██████████| 30000/30000 [00:07<00:00, 4159.06it/s]\n",
      "100%|██████████| 30000/30000 [00:05<00:00, 5193.42it/s]\n",
      "100%|██████████| 30000/30000 [00:07<00:00, 4203.97it/s]\n",
      "100%|██████████| 30000/30000 [00:05<00:00, 5176.22it/s]\n",
      "100%|██████████| 30000/30000 [00:07<00:00, 4175.77it/s]\n",
      "100%|██████████| 30000/30000 [00:05<00:00, 5201.70it/s]\n",
      "100%|██████████| 30000/30000 [00:07<00:00, 4201.95it/s]\n",
      "100%|██████████| 30000/30000 [00:05<00:00, 5156.58it/s]\n",
      "100%|██████████| 30000/30000 [00:07<00:00, 4191.98it/s]\n",
      "100%|██████████| 30000/30000 [00:05<00:00, 5300.17it/s]\n"
     ]
    },
    {
     "name": "stdout",
     "output_type": "stream",
     "text": [
      "wins when agent is X\n",
      "  user:       0   0%\n",
      "  agent:  24500  98%\n",
      "  draw:     400   2%\n",
      "wins when agent is O\n",
      "  user:       0   0%\n",
      "  agent:  63200  89%\n",
      "  draw:    7900  11%\n"
     ]
    }
   ],
   "source": [
    "# Так же можно обучить большее количество менее обученных ботов, и мы получим те же результаты\n",
    "n_agents = 20\n",
    "agents = []\n",
    "for i in range(n_agents):\n",
    "    agents.append(train_agent(n_episodes // 10)[0])\n",
    "\n",
    "new_agent = merge(agents)\n",
    "analyze(new_agent, 100, 'X')\n",
    "analyze(new_agent, 100, 'O')"
   ]
  },
  {
   "cell_type": "markdown",
   "metadata": {
    "id": "_sreGtQl6ZBM"
   },
   "source": [
    "Можно сделать вывод, что наш агент играет оптимально"
   ]
  },
  {
   "cell_type": "code",
   "execution_count": 145,
   "metadata": {
    "id": "ztgQ_SAkYSKh"
   },
   "outputs": [],
   "source": [
    "with open('agent.pickle', 'wb') as f:\n",
    "    pickle.dump(super_agent, f)"
   ]
  },
  {
   "cell_type": "code",
   "execution_count": 91,
   "metadata": {
    "id": "HATB2ME3dJEZ"
   },
   "outputs": [],
   "source": [
    "def print_board(board):\n",
    "    translate = {1:'X', 0:'.', -1:'O'}\n",
    "    for i in range(3):\n",
    "        for j in range(3):\n",
    "            print(translate[board[i * 3 + j]], end='')\n",
    "        print()\n",
    "    print()\n",
    "\n",
    "# Симулирует партию игры агента с самим собой\n",
    "def demo(agent):\n",
    "    env = TicTacToeEnvironment()\n",
    "    state = env.reset()\n",
    "    turn = 'X'\n",
    "    done = False\n",
    "    while not done:\n",
    "        action = agent.choose_action(state)\n",
    "\n",
    "        next_state, reward, done = env.step(action, turn)\n",
    "        state = next_state\n",
    "\n",
    "        turn = 'X' if turn == 'O' else 'O'\n",
    "        print_board(state)\n",
    "        if done:\n",
    "             break"
   ]
  },
  {
   "cell_type": "code",
   "execution_count": 146,
   "metadata": {
    "colab": {
     "base_uri": "https://localhost:8080/"
    },
    "id": "dMFeLDfddNih",
    "outputId": "13ae01c6-3367-4b22-81c7-36bfa0c6f435"
   },
   "outputs": [
    {
     "name": "stdout",
     "output_type": "stream",
     "text": [
      "...\n",
      ".X.\n",
      "...\n",
      "\n",
      "O..\n",
      ".X.\n",
      "...\n",
      "\n",
      "O..\n",
      ".X.\n",
      "X..\n",
      "\n",
      "O.O\n",
      ".X.\n",
      "X..\n",
      "\n",
      "OXO\n",
      ".X.\n",
      "X..\n",
      "\n",
      "OXO\n",
      ".X.\n",
      "XO.\n",
      "\n",
      "OXO\n",
      "XX.\n",
      "XO.\n",
      "\n",
      "OXO\n",
      "XXO\n",
      "XO.\n",
      "\n",
      "OXO\n",
      "XXO\n",
      "XOX\n",
      "\n"
     ]
    }
   ],
   "source": [
    "demo(super_agent) # Видно, что ходы вполне осмысленные"
   ]
  }
 ],
 "metadata": {
  "colab": {
   "provenance": []
  },
  "kernelspec": {
   "display_name": "Python 3 (ipykernel)",
   "language": "python",
   "name": "python3"
  },
  "language_info": {
   "codemirror_mode": {
    "name": "ipython",
    "version": 3
   },
   "file_extension": ".py",
   "mimetype": "text/x-python",
   "name": "python",
   "nbconvert_exporter": "python",
   "pygments_lexer": "ipython3",
   "version": "3.12.4"
  }
 },
 "nbformat": 4,
 "nbformat_minor": 4
}
