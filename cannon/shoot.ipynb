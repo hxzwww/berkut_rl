{
  "cells": [
    {
      "cell_type": "code",
      "execution_count": 1,
      "metadata": {
        "execution": {
          "iopub.execute_input": "2024-07-08T13:06:53.211039Z",
          "iopub.status.busy": "2024-07-08T13:06:53.210149Z",
          "iopub.status.idle": "2024-07-08T13:06:53.218989Z",
          "shell.execute_reply": "2024-07-08T13:06:53.218018Z",
          "shell.execute_reply.started": "2024-07-08T13:06:53.210997Z"
        },
        "id": "pA4H7hQ6xc9t"
      },
      "outputs": [],
      "source": [
        "import torch\n",
        "import torch.nn as nn\n",
        "import numpy as np"
      ]
    },
    {
      "cell_type": "code",
      "execution_count": 2,
      "metadata": {
        "id": "pyoUQVqP-bRP"
      },
      "outputs": [],
      "source": [
        "from cannon import CannonEnviroment, Actor, Critic"
      ]
    },
    {
      "cell_type": "code",
      "execution_count": 3,
      "metadata": {
        "colab": {
          "base_uri": "https://localhost:8080/"
        },
        "id": "nWBP6qNb8nJx",
        "outputId": "19b7c6e1-48c6-4767-8a63-14d35d45312c"
      },
      "outputs": [
        {
          "output_type": "execute_result",
          "data": {
            "text/plain": [
              "Actor(\n",
              "  (fc_i): Linear(in_features=2, out_features=128, bias=True)\n",
              "  (seq): Sequential(\n",
              "    (0): Linear(in_features=128, out_features=128, bias=True)\n",
              "    (1): ReLU()\n",
              "    (2): Linear(in_features=128, out_features=128, bias=True)\n",
              "    (3): ReLU()\n",
              "    (4): Linear(in_features=128, out_features=128, bias=True)\n",
              "    (5): ReLU()\n",
              "    (6): Linear(in_features=128, out_features=128, bias=True)\n",
              "    (7): ReLU()\n",
              "    (8): Linear(in_features=128, out_features=128, bias=True)\n",
              "    (9): ReLU()\n",
              "  )\n",
              "  (fc_o): Linear(in_features=128, out_features=1, bias=True)\n",
              ")"
            ]
          },
          "metadata": {},
          "execution_count": 3
        }
      ],
      "source": [
        "model = Actor(128, 5)\n",
        "model.load_state_dict(torch.load('actor.pt', map_location=torch.device('cpu')))\n",
        "model.eval()"
      ]
    },
    {
      "cell_type": "code",
      "execution_count": 12,
      "metadata": {
        "id": "yw_EzB93D52b"
      },
      "outputs": [],
      "source": [
        "def shoot():\n",
        "    dist = float(input(\"enter shot distance (0-1000): \"))\n",
        "    angle = np.radians(float(input(\"enter shot angle (30-60): \")))\n",
        "    speed = model(torch.tensor([angle, dist], dtype=torch.float)).item()\n",
        "\n",
        "    shot_dist = speed ** 2 * np.sin(2 * angle) / 9.81\n",
        "    print(f\"speed = {speed : .2f}, shot distance = {shot_dist : .2f}\")"
      ]
    },
    {
      "cell_type": "code",
      "execution_count": 15,
      "metadata": {
        "colab": {
          "base_uri": "https://localhost:8080/"
        },
        "id": "tyexIh2iFJLw",
        "outputId": "2b64bb19-f8f9-476b-d977-11094268ad6f"
      },
      "outputs": [
        {
          "output_type": "stream",
          "name": "stdout",
          "text": [
            "enter shot distance (0-1000): 857\n",
            "enter shot angle (30-60): 55\n",
            "speed =  94.78, shot distance =  860.42\n"
          ]
        }
      ],
      "source": [
        "shoot()"
      ]
    },
    {
      "cell_type": "code",
      "source": [
        "shoot()"
      ],
      "metadata": {
        "colab": {
          "base_uri": "https://localhost:8080/"
        },
        "id": "2QZtJvslxSyZ",
        "outputId": "316b2a16-794c-492c-934c-5c1522c7f43b"
      },
      "execution_count": 16,
      "outputs": [
        {
          "output_type": "stream",
          "name": "stdout",
          "text": [
            "enter shot distance (0-1000): 66\n",
            "enter shot angle (30-60): 52\n",
            "speed =  25.96, shot distance =  66.65\n"
          ]
        }
      ]
    }
  ],
  "metadata": {
    "accelerator": "GPU",
    "colab": {
      "gpuType": "T4",
      "provenance": []
    },
    "kaggle": {
      "accelerator": "gpu",
      "dataSources": [
        {
          "databundleVersionId": 8978677,
          "datasetId": 934701,
          "sourceId": 8820551,
          "sourceType": "datasetVersion"
        },
        {
          "databundleVersionId": 8433222,
          "datasetId": 4932444,
          "sourceId": 8302691,
          "sourceType": "datasetVersion"
        }
      ],
      "dockerImageVersionId": 30699,
      "isGpuEnabled": true,
      "isInternetEnabled": false,
      "language": "python",
      "sourceType": "notebook"
    },
    "kernelspec": {
      "display_name": "Python 3 (ipykernel)",
      "language": "python",
      "name": "python3"
    },
    "language_info": {
      "codemirror_mode": {
        "name": "ipython",
        "version": 3
      },
      "file_extension": ".py",
      "mimetype": "text/x-python",
      "name": "python",
      "nbconvert_exporter": "python",
      "pygments_lexer": "ipython3",
      "version": "3.12.4"
    }
  },
  "nbformat": 4,
  "nbformat_minor": 0
}