{
 "cells": [
  {
   "cell_type": "code",
   "execution_count": null,
   "metadata": {
    "colab": {
     "base_uri": "https://localhost:8080/",
     "height": 35
    },
    "execution": {
     "iopub.execute_input": "2024-07-08T13:06:53.211039Z",
     "iopub.status.busy": "2024-07-08T13:06:53.210149Z",
     "iopub.status.idle": "2024-07-08T13:06:53.218989Z",
     "shell.execute_reply": "2024-07-08T13:06:53.218018Z",
     "shell.execute_reply.started": "2024-07-08T13:06:53.210997Z"
    },
    "id": "pA4H7hQ6xc9t",
    "outputId": "cb13b75f-2483-4068-a466-289d90b55ae9"
   },
   "outputs": [
    {
     "data": {
      "text/plain": [
       "'cuda'"
      ]
     },
     "execution_count": 88,
     "metadata": {},
     "output_type": "execute_result"
    }
   ],
   "source": [
    "import random\n",
    "import torch\n",
    "import torch.nn as nn\n",
    "import torch.optim as optim\n",
    "import numpy as np\n",
    "from tqdm import tqdm\n",
    "import matplotlib.pyplot as plt\n",
    "import warnings\n",
    "import pickle\n",
    "\n",
    "\n",
    "device = 'cuda' if torch.cuda.is_available() else 'cpu'\n",
    "device"
   ]
  },
  {
   "cell_type": "code",
   "execution_count": null,
   "metadata": {
    "execution": {
     "iopub.execute_input": "2024-07-08T13:06:16.545953Z",
     "iopub.status.busy": "2024-07-08T13:06:16.545139Z",
     "iopub.status.idle": "2024-07-08T13:06:16.558797Z",
     "shell.execute_reply": "2024-07-08T13:06:16.557900Z",
     "shell.execute_reply.started": "2024-07-08T13:06:16.545918Z"
    },
    "id": "0QUzDQPxNVYP"
   },
   "outputs": [],
   "source": [
    "from cannon import CannonEnviroment, Actor, Critic"
   ]
  },
  {
   "cell_type": "code",
   "execution_count": null,
   "metadata": {
    "id": "2M81UGAk3n2b"
   },
   "outputs": [],
   "source": [
    "MAX_DISTANCE = 1000\n",
    "MAX_SPEED = 100\n",
    "ANGLE_BOTTOM = 30\n",
    "ANGLE_TOP = 60"
   ]
  },
  {
   "cell_type": "code",
   "execution_count": null,
   "metadata": {
    "id": "mkrsSJ113hsS"
   },
   "outputs": [],
   "source": [
    "env = CannonEnviroment(MAX_DISTANCE, ANGLE_BOTTOM, ANGLE_TOP)"
   ]
  },
  {
   "cell_type": "code",
   "execution_count": null,
   "metadata": {
    "execution": {
     "iopub.execute_input": "2024-07-08T12:40:16.445320Z",
     "iopub.status.busy": "2024-07-08T12:40:16.444958Z",
     "iopub.status.idle": "2024-07-08T12:40:16.462377Z",
     "shell.execute_reply": "2024-07-08T12:40:16.461518Z",
     "shell.execute_reply.started": "2024-07-08T12:40:16.445289Z"
    },
    "id": "fGgxd8-s3dMB"
   },
   "outputs": [],
   "source": [
    "def train_actor_critic(actor, actor_target, critic, episodes=1000, gamma=0.99, tau=0.005):\n",
    "\n",
    "    actor_optimizer = optim.Adam(actor.parameters())\n",
    "    critic_optimizer = optim.Adam(critic.parameters())\n",
    "\n",
    "    replay_buffer = torch.tensor([], device=device)\n",
    "\n",
    "    batch_size = 64\n",
    "    T = 10\n",
    "\n",
    "    total = 0\n",
    "    total_critic = 0\n",
    "\n",
    "    for episode in tqdm(range(episodes)):\n",
    "        state = env.reset()\n",
    "\n",
    "        action = actor(\n",
    "            torch.tensor(state, dtype=torch.float).to(device).unsqueeze(0)\n",
    "        )[0].detach().cpu() + torch.randn(1)\n",
    "\n",
    "        action = torch.clip(action, min=0, max=MAX_SPEED)\n",
    "\n",
    "        _, reward, status = env.step(action[0])\n",
    "        torch.cat((\n",
    "            replay_buffer.clone(),\n",
    "            torch.tensor([[*state, action, reward, status]], dtype=torch.float).to(device)), 0,\n",
    "                out=replay_buffer\n",
    "        )\n",
    "\n",
    "        total += reward\n",
    "        if episode % 300 == 0:\n",
    "            print(f\"episode={episode} reward={total / 300: .2f} critic={total_critic / 300 / T}\")\n",
    "            total = 0\n",
    "            total_critic = 0\n",
    "\n",
    "        if status:\n",
    "            continue\n",
    "\n",
    "        if len(replay_buffer) > batch_size * 10:\n",
    "            for t in range(T):\n",
    "                batch = replay_buffer[torch.randint(0, len(replay_buffer), (batch_size, ))]\n",
    "\n",
    "                states = batch[:, 0:2]\n",
    "                actions = batch[:, 2].unsqueeze(1)\n",
    "                rewards = batch[:, 3].unsqueeze(1)\n",
    "                statuses = batch[:, 4]\n",
    "\n",
    "                target_q = rewards\n",
    "                current_q = critic(torch.hstack([states, actions]))\n",
    "\n",
    "                critic_loss = nn.MSELoss()(current_q, target_q)\n",
    "                total_critic += critic_loss.item()\n",
    "                critic_optimizer.zero_grad()\n",
    "                critic_loss.backward()\n",
    "                critic_optimizer.step()\n",
    "\n",
    "                new_actions = actor(states)\n",
    "\n",
    "                actor_loss = -torch.mean(critic(torch.hstack([states, new_actions])))\n",
    "                actor_optimizer.zero_grad()\n",
    "                actor_loss.backward()\n",
    "                actor_optimizer.step()\n",
    "\n",
    "                for param, target_param in zip(actor.parameters(), actor_target.parameters()):\n",
    "                    target_param.data.copy_(tau * param.data + (1 - tau) * target_param.data)\n",
    "\n",
    "    return actor, actor_target, critic\n"
   ]
  },
  {
   "cell_type": "markdown",
   "metadata": {},
   "source": [
    "Снизу в логах за каждые 300 эпизодов указаны средний reward актора и средний loss критика, вдино что они одновременно уменьшаются"
   ]
  },
  {
   "cell_type": "code",
   "execution_count": null,
   "metadata": {
    "execution": {
     "iopub.execute_input": "2024-07-08T12:40:17.316137Z",
     "iopub.status.busy": "2024-07-08T12:40:17.315800Z",
     "iopub.status.idle": "2024-07-08T13:00:55.447089Z",
     "shell.execute_reply": "2024-07-08T13:00:55.446110Z",
     "shell.execute_reply.started": "2024-07-08T12:40:17.316111Z"
    },
    "id": "3WCyFAVca4gy",
    "outputId": "b263636d-51d1-491c-e699-2072daedc6f2"
   },
   "outputs": [
    {
     "name": "stderr",
     "output_type": "stream",
     "text": [
      "  1%|          | 121/20000 [00:00<00:16, 1193.52it/s]"
     ]
    },
    {
     "name": "stdout",
     "output_type": "stream",
     "text": [
      "episode=0 reward=-3.07 critic=0.0\n"
     ]
    },
    {
     "name": "stderr",
     "output_type": "stream",
     "text": [
      "  2%|▏         | 491/20000 [00:00<00:16, 1191.33it/s]"
     ]
    },
    {
     "name": "stdout",
     "output_type": "stream",
     "text": [
      "episode=300 reward=-516.37 critic=0.0\n"
     ]
    },
    {
     "name": "stderr",
     "output_type": "stream",
     "text": [
      "  3%|▎         | 614/20000 [00:00<00:16, 1204.36it/s]"
     ]
    },
    {
     "name": "stdout",
     "output_type": "stream",
     "text": [
      "episode=600 reward=-490.32 critic=0.0\n"
     ]
    },
    {
     "name": "stderr",
     "output_type": "stream",
     "text": [
      "  4%|▍         | 871/20000 [00:15<11:42, 27.23it/s]  "
     ]
    },
    {
     "name": "stdout",
     "output_type": "stream",
     "text": [
      "episode=900 reward=-246.81 critic=2037.6333153738794\n"
     ]
    },
    {
     "name": "stderr",
     "output_type": "stream",
     "text": [
      "  6%|▌         | 1201/20000 [00:38<21:27, 14.60it/s]"
     ]
    },
    {
     "name": "stdout",
     "output_type": "stream",
     "text": [
      "episode=1200 reward=-112.47 critic=1384.2364826863607\n"
     ]
    },
    {
     "name": "stderr",
     "output_type": "stream",
     "text": [
      "  8%|▊         | 1502/20000 [00:58<20:34, 14.98it/s]"
     ]
    },
    {
     "name": "stdout",
     "output_type": "stream",
     "text": [
      "episode=1500 reward=-92.59 critic=1048.8997812067669\n"
     ]
    },
    {
     "name": "stderr",
     "output_type": "stream",
     "text": [
      "  9%|▉         | 1802/20000 [01:18<20:44, 14.62it/s]"
     ]
    },
    {
     "name": "stdout",
     "output_type": "stream",
     "text": [
      "episode=1800 reward=-50.08 critic=945.6664391326905\n"
     ]
    },
    {
     "name": "stderr",
     "output_type": "stream",
     "text": [
      " 11%|█         | 2103/20000 [01:38<17:21, 17.18it/s]"
     ]
    },
    {
     "name": "stdout",
     "output_type": "stream",
     "text": [
      "episode=2100 reward=-35.05 critic=721.0348208007813\n"
     ]
    },
    {
     "name": "stderr",
     "output_type": "stream",
     "text": [
      " 12%|█▏        | 2403/20000 [01:57<18:53, 15.52it/s]"
     ]
    },
    {
     "name": "stdout",
     "output_type": "stream",
     "text": [
      "episode=2400 reward=-31.36 critic=593.9921556650797\n"
     ]
    },
    {
     "name": "stderr",
     "output_type": "stream",
     "text": [
      " 14%|█▎        | 2701/20000 [02:17<18:24, 15.66it/s]"
     ]
    },
    {
     "name": "stdout",
     "output_type": "stream",
     "text": [
      "episode=2700 reward=-32.84 critic=583.3172772801718\n"
     ]
    },
    {
     "name": "stderr",
     "output_type": "stream",
     "text": [
      " 15%|█▌        | 3002/20000 [02:37<16:52, 16.79it/s]"
     ]
    },
    {
     "name": "stdout",
     "output_type": "stream",
     "text": [
      "episode=3000 reward=-26.48 critic=534.0636570129394\n"
     ]
    },
    {
     "name": "stderr",
     "output_type": "stream",
     "text": [
      " 17%|█▋        | 3302/20000 [02:57<18:10, 15.31it/s]"
     ]
    },
    {
     "name": "stdout",
     "output_type": "stream",
     "text": [
      "episode=3300 reward=-28.71 critic=525.2684697901408\n"
     ]
    },
    {
     "name": "stderr",
     "output_type": "stream",
     "text": [
      " 18%|█▊        | 3602/20000 [03:16<17:46, 15.38it/s]"
     ]
    },
    {
     "name": "stdout",
     "output_type": "stream",
     "text": [
      "episode=3600 reward=-25.99 critic=494.62252663167317\n"
     ]
    },
    {
     "name": "stderr",
     "output_type": "stream",
     "text": [
      " 20%|█▉        | 3903/20000 [03:35<17:21, 15.45it/s]"
     ]
    },
    {
     "name": "stdout",
     "output_type": "stream",
     "text": [
      "episode=3900 reward=-27.97 critic=472.5852377166748\n"
     ]
    },
    {
     "name": "stderr",
     "output_type": "stream",
     "text": [
      " 21%|██        | 4203/20000 [03:55<17:08, 15.36it/s]"
     ]
    },
    {
     "name": "stdout",
     "output_type": "stream",
     "text": [
      "episode=4200 reward=-25.00 critic=429.13290179951986\n"
     ]
    },
    {
     "name": "stderr",
     "output_type": "stream",
     "text": [
      " 23%|██▎       | 4502/20000 [04:14<14:58, 17.25it/s]"
     ]
    },
    {
     "name": "stdout",
     "output_type": "stream",
     "text": [
      "episode=4500 reward=-23.22 critic=400.69845730336505\n"
     ]
    },
    {
     "name": "stderr",
     "output_type": "stream",
     "text": [
      " 24%|██▍       | 4802/20000 [04:34<17:01, 14.87it/s]"
     ]
    },
    {
     "name": "stdout",
     "output_type": "stream",
     "text": [
      "episode=4800 reward=-24.85 critic=383.9159679209391\n"
     ]
    },
    {
     "name": "stderr",
     "output_type": "stream",
     "text": [
      " 26%|██▌       | 5102/20000 [04:53<15:37, 15.88it/s]"
     ]
    },
    {
     "name": "stdout",
     "output_type": "stream",
     "text": [
      "episode=5100 reward=-22.85 critic=360.23127042134604\n"
     ]
    },
    {
     "name": "stderr",
     "output_type": "stream",
     "text": [
      " 27%|██▋       | 5403/20000 [05:12<14:59, 16.24it/s]"
     ]
    },
    {
     "name": "stdout",
     "output_type": "stream",
     "text": [
      "episode=5400 reward=-23.92 critic=354.4344966532389\n"
     ]
    },
    {
     "name": "stderr",
     "output_type": "stream",
     "text": [
      " 29%|██▊       | 5702/20000 [05:32<15:56, 14.95it/s]"
     ]
    },
    {
     "name": "stdout",
     "output_type": "stream",
     "text": [
      "episode=5700 reward=-23.24 critic=347.7887572784424\n"
     ]
    },
    {
     "name": "stderr",
     "output_type": "stream",
     "text": [
      " 30%|███       | 6003/20000 [05:51<15:13, 15.31it/s]"
     ]
    },
    {
     "name": "stdout",
     "output_type": "stream",
     "text": [
      "episode=6000 reward=-21.89 critic=325.76673313649496\n"
     ]
    },
    {
     "name": "stderr",
     "output_type": "stream",
     "text": [
      " 32%|███▏      | 6302/20000 [06:10<14:49, 15.39it/s]"
     ]
    },
    {
     "name": "stdout",
     "output_type": "stream",
     "text": [
      "episode=6300 reward=-23.69 critic=321.54976063283283\n"
     ]
    },
    {
     "name": "stderr",
     "output_type": "stream",
     "text": [
      " 33%|███▎      | 6601/20000 [06:29<13:56, 16.02it/s]"
     ]
    },
    {
     "name": "stdout",
     "output_type": "stream",
     "text": [
      "episode=6600 reward=-23.59 critic=318.4967080485026\n"
     ]
    },
    {
     "name": "stderr",
     "output_type": "stream",
     "text": [
      " 35%|███▍      | 6903/20000 [06:49<14:14, 15.34it/s]"
     ]
    },
    {
     "name": "stdout",
     "output_type": "stream",
     "text": [
      "episode=6900 reward=-23.25 critic=281.4050579490662\n"
     ]
    },
    {
     "name": "stderr",
     "output_type": "stream",
     "text": [
      " 36%|███▌      | 7203/20000 [07:08<13:34, 15.72it/s]"
     ]
    },
    {
     "name": "stdout",
     "output_type": "stream",
     "text": [
      "episode=7200 reward=-20.32 critic=170.62230480448406\n"
     ]
    },
    {
     "name": "stderr",
     "output_type": "stream",
     "text": [
      " 38%|███▊      | 7502/20000 [07:27<13:39, 15.25it/s]"
     ]
    },
    {
     "name": "stdout",
     "output_type": "stream",
     "text": [
      "episode=7500 reward=-20.76 critic=114.09010032049815\n"
     ]
    },
    {
     "name": "stderr",
     "output_type": "stream",
     "text": [
      " 39%|███▉      | 7801/20000 [07:47<10:43, 18.96it/s]"
     ]
    },
    {
     "name": "stdout",
     "output_type": "stream",
     "text": [
      "episode=7800 reward=-22.60 critic=87.36682748730978\n"
     ]
    },
    {
     "name": "stderr",
     "output_type": "stream",
     "text": [
      " 41%|████      | 8102/20000 [08:06<13:17, 14.91it/s]"
     ]
    },
    {
     "name": "stdout",
     "output_type": "stream",
     "text": [
      "episode=8100 reward=-19.82 critic=86.67448303127289\n"
     ]
    },
    {
     "name": "stderr",
     "output_type": "stream",
     "text": [
      " 42%|████▏     | 8402/20000 [08:25<12:41, 15.23it/s]"
     ]
    },
    {
     "name": "stdout",
     "output_type": "stream",
     "text": [
      "episode=8400 reward=-21.39 critic=57.65226302321752\n"
     ]
    },
    {
     "name": "stderr",
     "output_type": "stream",
     "text": [
      " 44%|████▎     | 8701/20000 [08:45<12:29, 15.08it/s]"
     ]
    },
    {
     "name": "stdout",
     "output_type": "stream",
     "text": [
      "episode=8700 reward=-20.24 critic=67.05765840498606\n"
     ]
    },
    {
     "name": "stderr",
     "output_type": "stream",
     "text": [
      " 45%|████▌     | 9001/20000 [09:04<11:52, 15.43it/s]"
     ]
    },
    {
     "name": "stdout",
     "output_type": "stream",
     "text": [
      "episode=9000 reward=-21.53 critic=66.39250923641522\n"
     ]
    },
    {
     "name": "stderr",
     "output_type": "stream",
     "text": [
      " 47%|████▋     | 9302/20000 [09:23<11:53, 14.99it/s]"
     ]
    },
    {
     "name": "stdout",
     "output_type": "stream",
     "text": [
      "episode=9300 reward=-19.62 critic=74.58218292013804\n"
     ]
    },
    {
     "name": "stderr",
     "output_type": "stream",
     "text": [
      " 48%|████▊     | 9603/20000 [09:43<11:21, 15.25it/s]"
     ]
    },
    {
     "name": "stdout",
     "output_type": "stream",
     "text": [
      "episode=9600 reward=-19.71 critic=53.6083372212251\n"
     ]
    },
    {
     "name": "stderr",
     "output_type": "stream",
     "text": [
      " 50%|████▉     | 9901/20000 [10:02<10:10, 16.54it/s]"
     ]
    },
    {
     "name": "stdout",
     "output_type": "stream",
     "text": [
      "episode=9900 reward=-20.34 critic=63.58215344492594\n"
     ]
    },
    {
     "name": "stderr",
     "output_type": "stream",
     "text": [
      " 51%|█████     | 10201/20000 [10:21<09:42, 16.82it/s]"
     ]
    },
    {
     "name": "stdout",
     "output_type": "stream",
     "text": [
      "episode=10200 reward=-19.91 critic=45.49581251970927\n"
     ]
    },
    {
     "name": "stderr",
     "output_type": "stream",
     "text": [
      " 53%|█████▎    | 10501/20000 [10:40<11:12, 14.13it/s]"
     ]
    },
    {
     "name": "stdout",
     "output_type": "stream",
     "text": [
      "episode=10500 reward=-16.09 critic=49.14046437855561\n"
     ]
    },
    {
     "name": "stderr",
     "output_type": "stream",
     "text": [
      " 54%|█████▍    | 10801/20000 [10:59<10:22, 14.77it/s]"
     ]
    },
    {
     "name": "stdout",
     "output_type": "stream",
     "text": [
      "episode=10800 reward=-15.35 critic=52.841675583283106\n"
     ]
    },
    {
     "name": "stderr",
     "output_type": "stream",
     "text": [
      " 56%|█████▌    | 11102/20000 [11:18<10:01, 14.79it/s]"
     ]
    },
    {
     "name": "stdout",
     "output_type": "stream",
     "text": [
      "episode=11100 reward=-17.01 critic=53.28292357436816\n"
     ]
    },
    {
     "name": "stderr",
     "output_type": "stream",
     "text": [
      " 57%|█████▋    | 11403/20000 [11:37<07:11, 19.91it/s]"
     ]
    },
    {
     "name": "stdout",
     "output_type": "stream",
     "text": [
      "episode=11400 reward=-14.28 critic=43.83142781925201\n"
     ]
    },
    {
     "name": "stderr",
     "output_type": "stream",
     "text": [
      " 59%|█████▊    | 11703/20000 [11:56<07:48, 17.73it/s]"
     ]
    },
    {
     "name": "stdout",
     "output_type": "stream",
     "text": [
      "episode=11700 reward=-13.50 critic=44.69564626336098\n"
     ]
    },
    {
     "name": "stderr",
     "output_type": "stream",
     "text": [
      " 60%|██████    | 12002/20000 [12:15<08:48, 15.14it/s]"
     ]
    },
    {
     "name": "stdout",
     "output_type": "stream",
     "text": [
      "episode=12000 reward=-14.76 critic=46.213753831307095\n"
     ]
    },
    {
     "name": "stderr",
     "output_type": "stream",
     "text": [
      " 62%|██████▏   | 12302/20000 [12:34<08:33, 14.99it/s]"
     ]
    },
    {
     "name": "stdout",
     "output_type": "stream",
     "text": [
      "episode=12300 reward=-14.27 critic=96.18686721952756\n"
     ]
    },
    {
     "name": "stderr",
     "output_type": "stream",
     "text": [
      " 63%|██████▎   | 12601/20000 [12:53<08:24, 14.68it/s]"
     ]
    },
    {
     "name": "stdout",
     "output_type": "stream",
     "text": [
      "episode=12600 reward=-15.85 critic=60.257256581465406\n"
     ]
    },
    {
     "name": "stderr",
     "output_type": "stream",
     "text": [
      " 65%|██████▍   | 12902/20000 [13:13<07:40, 15.42it/s]"
     ]
    },
    {
     "name": "stdout",
     "output_type": "stream",
     "text": [
      "episode=12900 reward=-13.40 critic=38.22564078577359\n"
     ]
    },
    {
     "name": "stderr",
     "output_type": "stream",
     "text": [
      " 66%|██████▌   | 13201/20000 [13:31<07:16, 15.56it/s]"
     ]
    },
    {
     "name": "stdout",
     "output_type": "stream",
     "text": [
      "episode=13200 reward=-12.95 critic=42.16024963927269\n"
     ]
    },
    {
     "name": "stderr",
     "output_type": "stream",
     "text": [
      " 68%|██████▊   | 13503/20000 [13:51<07:22, 14.68it/s]"
     ]
    },
    {
     "name": "stdout",
     "output_type": "stream",
     "text": [
      "episode=13500 reward=-13.17 critic=45.714385604461036\n"
     ]
    },
    {
     "name": "stderr",
     "output_type": "stream",
     "text": [
      " 69%|██████▉   | 13803/20000 [14:10<06:00, 17.20it/s]"
     ]
    },
    {
     "name": "stdout",
     "output_type": "stream",
     "text": [
      "episode=13800 reward=-13.35 critic=34.918234227021536\n"
     ]
    },
    {
     "name": "stderr",
     "output_type": "stream",
     "text": [
      " 71%|███████   | 14102/20000 [14:28<05:41, 17.28it/s]"
     ]
    },
    {
     "name": "stdout",
     "output_type": "stream",
     "text": [
      "episode=14100 reward=-11.94 critic=34.54647755424182\n"
     ]
    },
    {
     "name": "stderr",
     "output_type": "stream",
     "text": [
      " 72%|███████▏  | 14403/20000 [14:47<05:45, 16.20it/s]"
     ]
    },
    {
     "name": "stdout",
     "output_type": "stream",
     "text": [
      "episode=14400 reward=-12.60 critic=25.35799645749728\n"
     ]
    },
    {
     "name": "stderr",
     "output_type": "stream",
     "text": [
      " 74%|███████▎  | 14703/20000 [15:06<05:44, 15.39it/s]"
     ]
    },
    {
     "name": "stdout",
     "output_type": "stream",
     "text": [
      "episode=14700 reward=-14.26 critic=33.01288091437022\n"
     ]
    },
    {
     "name": "stderr",
     "output_type": "stream",
     "text": [
      " 75%|███████▌  | 15004/20000 [15:25<04:38, 17.91it/s]"
     ]
    },
    {
     "name": "stdout",
     "output_type": "stream",
     "text": [
      "episode=15000 reward=-14.02 critic=28.682681957761446\n"
     ]
    },
    {
     "name": "stderr",
     "output_type": "stream",
     "text": [
      " 77%|███████▋  | 15302/20000 [15:43<04:50, 16.19it/s]"
     ]
    },
    {
     "name": "stdout",
     "output_type": "stream",
     "text": [
      "episode=15300 reward=-13.49 critic=31.712073589245477\n"
     ]
    },
    {
     "name": "stderr",
     "output_type": "stream",
     "text": [
      " 78%|███████▊  | 15602/20000 [16:02<03:56, 18.60it/s]"
     ]
    },
    {
     "name": "stdout",
     "output_type": "stream",
     "text": [
      "episode=15600 reward=-13.07 critic=27.08082897035281\n"
     ]
    },
    {
     "name": "stderr",
     "output_type": "stream",
     "text": [
      " 80%|███████▉  | 15903/20000 [16:20<04:32, 15.04it/s]"
     ]
    },
    {
     "name": "stdout",
     "output_type": "stream",
     "text": [
      "episode=15900 reward=-12.52 critic=30.1222571195364\n"
     ]
    },
    {
     "name": "stderr",
     "output_type": "stream",
     "text": [
      " 81%|████████  | 16201/20000 [16:39<04:05, 15.49it/s]"
     ]
    },
    {
     "name": "stdout",
     "output_type": "stream",
     "text": [
      "episode=16200 reward=-13.90 critic=25.551487961649894\n"
     ]
    },
    {
     "name": "stderr",
     "output_type": "stream",
     "text": [
      " 83%|████████▎ | 16502/20000 [16:58<02:54, 20.10it/s]"
     ]
    },
    {
     "name": "stdout",
     "output_type": "stream",
     "text": [
      "episode=16500 reward=-13.19 critic=32.01344061386585\n"
     ]
    },
    {
     "name": "stderr",
     "output_type": "stream",
     "text": [
      " 84%|████████▍ | 16804/20000 [17:17<02:55, 18.25it/s]"
     ]
    },
    {
     "name": "stdout",
     "output_type": "stream",
     "text": [
      "episode=16800 reward=-13.07 critic=27.44611201918125\n"
     ]
    },
    {
     "name": "stderr",
     "output_type": "stream",
     "text": [
      " 86%|████████▌ | 17103/20000 [17:36<02:56, 16.44it/s]"
     ]
    },
    {
     "name": "stdout",
     "output_type": "stream",
     "text": [
      "episode=17100 reward=-12.35 critic=26.858853889902434\n"
     ]
    },
    {
     "name": "stderr",
     "output_type": "stream",
     "text": [
      " 87%|████████▋ | 17401/20000 [17:54<02:59, 14.48it/s]"
     ]
    },
    {
     "name": "stdout",
     "output_type": "stream",
     "text": [
      "episode=17400 reward=-11.74 critic=21.475972275575003\n"
     ]
    },
    {
     "name": "stderr",
     "output_type": "stream",
     "text": [
      " 89%|████████▊ | 17702/20000 [18:13<02:09, 17.75it/s]"
     ]
    },
    {
     "name": "stdout",
     "output_type": "stream",
     "text": [
      "episode=17700 reward=-11.97 critic=33.04115568180879\n"
     ]
    },
    {
     "name": "stderr",
     "output_type": "stream",
     "text": [
      " 90%|█████████ | 18002/20000 [18:32<02:11, 15.16it/s]"
     ]
    },
    {
     "name": "stdout",
     "output_type": "stream",
     "text": [
      "episode=18000 reward=-12.18 critic=19.516152480642003\n"
     ]
    },
    {
     "name": "stderr",
     "output_type": "stream",
     "text": [
      " 92%|█████████▏| 18301/20000 [18:51<01:54, 14.88it/s]"
     ]
    },
    {
     "name": "stdout",
     "output_type": "stream",
     "text": [
      "episode=18300 reward=-11.65 critic=25.889335212032\n"
     ]
    },
    {
     "name": "stderr",
     "output_type": "stream",
     "text": [
      " 93%|█████████▎| 18602/20000 [19:10<01:36, 14.46it/s]"
     ]
    },
    {
     "name": "stdout",
     "output_type": "stream",
     "text": [
      "episode=18600 reward=-14.00 critic=22.26984397383531\n"
     ]
    },
    {
     "name": "stderr",
     "output_type": "stream",
     "text": [
      " 95%|█████████▍| 18902/20000 [19:29<01:09, 15.72it/s]"
     ]
    },
    {
     "name": "stdout",
     "output_type": "stream",
     "text": [
      "episode=18900 reward=-13.03 critic=27.312224912881852\n"
     ]
    },
    {
     "name": "stderr",
     "output_type": "stream",
     "text": [
      " 96%|█████████▌| 19201/20000 [19:48<00:54, 14.58it/s]"
     ]
    },
    {
     "name": "stdout",
     "output_type": "stream",
     "text": [
      "episode=19200 reward=-12.95 critic=21.10964281801383\n"
     ]
    },
    {
     "name": "stderr",
     "output_type": "stream",
     "text": [
      " 98%|█████████▊| 19502/20000 [20:07<00:31, 15.60it/s]"
     ]
    },
    {
     "name": "stdout",
     "output_type": "stream",
     "text": [
      "episode=19500 reward=-12.25 critic=21.395275407592454\n"
     ]
    },
    {
     "name": "stderr",
     "output_type": "stream",
     "text": [
      " 99%|█████████▉| 19802/20000 [20:25<00:12, 15.67it/s]"
     ]
    },
    {
     "name": "stdout",
     "output_type": "stream",
     "text": [
      "episode=19800 reward=-12.44 critic=27.089335902174312\n"
     ]
    },
    {
     "name": "stderr",
     "output_type": "stream",
     "text": [
      "100%|██████████| 20000/20000 [20:38<00:00, 16.15it/s]\n"
     ]
    }
   ],
   "source": [
    "actor = Actor(128, 5).to(device)\n",
    "critic = Critic(256, 7).to(device)\n",
    "\n",
    "actor_target = Actor(128, 5).to(device)\n",
    "actor_target.load_state_dict(actor.state_dict())\n",
    "\n",
    "with warnings.catch_warnings():\n",
    "    warnings.simplefilter(\"ignore\")\n",
    "    actor, actor_target, critic = train_actor_critic(actor, actor_target, critic, int(2e4))\n",
    "\n",
    "# Представленный ниже результат является плодом многократных запусков и экспериментов с гиперпараметрами, самый удачный запуск"
   ]
  },
  {
   "cell_type": "markdown",
   "metadata": {},
   "source": [
    "Протестируем нашего агента"
   ]
  },
  {
   "cell_type": "code",
   "execution_count": null,
   "metadata": {
    "execution": {
     "iopub.execute_input": "2024-07-08T13:21:25.668619Z",
     "iopub.status.busy": "2024-07-08T13:21:25.668229Z",
     "iopub.status.idle": "2024-07-08T13:21:26.356783Z",
     "shell.execute_reply": "2024-07-08T13:21:26.355774Z",
     "shell.execute_reply.started": "2024-07-08T13:21:25.668588Z"
    },
    "id": "6VPVla-E3dMC"
   },
   "outputs": [],
   "source": [
    "actor_target.eval()\n",
    "\n",
    "misses = []\n",
    "\n",
    "env = CannonEnviroment(1000)\n",
    "\n",
    "for i in range(1000):\n",
    "    state = env.reset()\n",
    "\n",
    "    action = actor_target(torch.tensor(state, dtype=torch.float).to(device).unsqueeze(0))[0].detach().cpu()\n",
    "\n",
    "    misses.append(env.step(action[0])[1])"
   ]
  },
  {
   "cell_type": "code",
   "execution_count": null,
   "metadata": {
    "execution": {
     "iopub.execute_input": "2024-07-08T13:21:28.405612Z",
     "iopub.status.busy": "2024-07-08T13:21:28.404766Z",
     "iopub.status.idle": "2024-07-08T13:21:28.770692Z",
     "shell.execute_reply": "2024-07-08T13:21:28.769803Z",
     "shell.execute_reply.started": "2024-07-08T13:21:28.405577Z"
    },
    "id": "hmx69IA93dMD",
    "outputId": "68d3c83c-b7bb-43b7-9dc4-2c70b92b2017"
   },
   "outputs": [
    {
     "data": {
      "image/png": "[encoded data removed]",
      "text/plain": [
       "<Figure size 640x480 with 1 Axes>"
      ]
     },
     "metadata": {},
     "output_type": "display_data"
    }
   ],
   "source": [
    "plt.hist(misses, bins=100) \n",
    "plt.show() # График распределения ревардов"
   ]
  },
  {
   "cell_type": "code",
   "execution_count": null,
   "metadata": {
    "execution": {
     "iopub.execute_input": "2024-07-08T13:25:57.440969Z",
     "iopub.status.busy": "2024-07-08T13:25:57.440553Z",
     "iopub.status.idle": "2024-07-08T13:25:57.490376Z",
     "shell.execute_reply": "2024-07-08T13:25:57.489556Z",
     "shell.execute_reply.started": "2024-07-08T13:25:57.440932Z"
    },
    "id": "1c5pLIk33dMD",
    "outputId": "8f5ad26d-e077-4efc-fec7-da8b1523d049"
   },
   "outputs": [
    {
     "data": {
      "text/plain": [
       "(-1.7209622, -0.8163452, -0.003540039, -24.755371, -7.092984008789062)"
      ]
     },
     "execution_count": 164,
     "metadata": {},
     "output_type": "execute_result"
    }
   ],
   "source": [
    "np.mean(misses), np.median(misses), np.max(misses), np.min(misses), np.percentile(misses, 5)"
   ]
  },
  {
   "cell_type": "code",
   "execution_count": null,
   "metadata": {
    "execution": {
     "iopub.execute_input": "2024-07-08T13:27:30.529586Z",
     "iopub.status.busy": "2024-07-08T13:27:30.528990Z",
     "iopub.status.idle": "2024-07-08T13:27:30.542110Z",
     "shell.execute_reply": "2024-07-08T13:27:30.541316Z",
     "shell.execute_reply.started": "2024-07-08T13:27:30.529554Z"
    },
    "id": "NLGxV30X3dMD"
   },
   "outputs": [],
   "source": [
    "torch.save(actor_target.state_dict(), 'actor.pt')"
   ]
  }
 ],
 "metadata": {
  "accelerator": "GPU",
  "colab": {
   "gpuType": "T4",
   "provenance": []
  },
  "kaggle": {
   "accelerator": "gpu",
   "dataSources": [
    {
     "databundleVersionId": 8978677,
     "datasetId": 934701,
     "sourceId": 8820551,
     "sourceType": "datasetVersion"
    },
    {
     "databundleVersionId": 8433222,
     "datasetId": 4932444,
     "sourceId": 8302691,
     "sourceType": "datasetVersion"
    }
   ],
   "dockerImageVersionId": 30699,
   "isGpuEnabled": true,
   "isInternetEnabled": false,
   "language": "python",
   "sourceType": "notebook"
  },
  "kernelspec": {
   "display_name": "Python 3 (ipykernel)",
   "language": "python",
   "name": "python3"
  },
  "language_info": {
   "codemirror_mode": {
    "name": "ipython",
    "version": 3
   },
   "file_extension": ".py",
   "mimetype": "text/x-python",
   "name": "python",
   "nbconvert_exporter": "python",
   "pygments_lexer": "ipython3",
   "version": "3.12.4"
  }
 },
 "nbformat": 4,
 "nbformat_minor": 4
}
